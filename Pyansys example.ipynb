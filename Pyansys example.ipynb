{
 "cells": [
  {
   "cell_type": "code",
   "execution_count": null,
   "metadata": {},
   "outputs": [],
   "source": [
    "import pyansys\n",
    "from pyansys import examples"
   ]
  },
  {
   "cell_type": "code",
   "execution_count": null,
   "metadata": {},
   "outputs": [],
   "source": [
    "filename = examples.hexarchivefile"
   ]
  },
  {
   "cell_type": "code",
   "execution_count": null,
   "metadata": {},
   "outputs": [],
   "source": [
    "archive = pyansys.Archive(filename)"
   ]
  },
  {
   "cell_type": "code",
   "execution_count": null,
   "metadata": {},
   "outputs": [],
   "source": [
    "for key in archive.raw:\n",
    "     print(\"%s : %s\" % (key, archive.raw[key]))"
   ]
  },
  {
   "cell_type": "code",
   "execution_count": null,
   "metadata": {},
   "outputs": [],
   "source": [
    "# Create a vtk unstructured grid from the raw data and plot it\n",
    "grid = archive.parse_vtk(force_linear=True)\n",
    "grid.plot(color='w', show_edges=True)"
   ]
  },
  {
   "cell_type": "code",
   "execution_count": null,
   "metadata": {},
   "outputs": [],
   "source": [
    "import pyansys\n",
    "from pyansys import examples\n",
    "\n",
    "# load example beam result file\n",
    "result = pyansys.read_binary(examples.rstfile)\n",
    "\n",
    "# save as a binary vtk xml file\n",
    "result.save_as_vtk('beam.vtu')"
   ]
  },
  {
   "cell_type": "markdown",
   "metadata": {},
   "source": [
    "#### output pressure data for ECR-calcution\n",
    "- select relevant nodes\n",
    "- write the require paremeters in ansys apdl\n",
    "- write out the pressure data  with time  and save as csv"
   ]
  },
  {
   "cell_type": "code",
   "execution_count": null,
   "metadata": {},
   "outputs": [],
   "source": [
    "ansys.prep7()\n",
    "ansys.allsel('all')\n",
    "ansys.upgeom(1, 3, 'last', STRUCT_FILE, 'rst')"
   ]
  },
  {
   "cell_type": "code",
   "execution_count": null,
   "metadata": {},
   "outputs": [],
   "source": [
    "ansys.post1()\n",
    "ansys.lsel('s', '', '', 200, 202, 1)\n",
    "ansys.nsll('s', 1)\n",
    "ansys.esln('s', 0)\n",
    "ansys.nsle('r', 'corner')\n",
    "ansys.nplot()\n",
    "ansys.load_parameters()\n",
    "ansys.parameters"
   ]
  },
  {
   "cell_type": "markdown",
   "metadata": {},
   "source": [
    "#### write the require paremeters in ansys apdl"
   ]
  },
  {
   "cell_type": "code",
   "execution_count": null,
   "metadata": {},
   "outputs": [],
   "source": [
    "# define the name of the substeps \n",
    "ansys.post1()\n",
    "par = ['NMBR_SS_PF', 'NMBR_SS_SP', 'NMBR_SS_SWF', 'NMBR_SS_EI']\n",
    "ansys.run(\"ND_PRES_CUR = 0\")\n",
    "ansys.load_parameters()\n",
    "\n",
    "# get the substeps number of eath Loadstep\n",
    "for i in range(len(par)):\n",
    "    ansys.set(i + 1, 'last')\n",
    "    ansys.get(par[i], 'active', 0, 'solu', 'ncmss')\n",
    "    ansys.load_parameters()\n",
    "\n",
    "NMBR_SS = sum([ansys.parameters[ele] for ele in par])\n",
    "NMBR_SS_EI = ansys.parameters['NMBR_SS_EI']\n",
    "\n",
    "# count the number of node on contact surface\n",
    "ansys.get('CNTCT1_ND_NMR', 'node', 0, 'count')\n",
    "# get the max nodenumber of the selected nodes\n",
    "ansys.get('CNTCT1_ND_MAX', 'node', 0, 'num', 'max')\n",
    "# get the min nodenumber of the selected nodes\n",
    "ansys.get('CNTCT1_ND_MIN', 'node', 0, 'num', 'min')\n",
    "# build a node time press tab\n",
    "ansys.dim('CNTCT1_ND_PRES', 'table', 'CNTCT1_ND_NMR', NMBR_SS_EI, '', '', 'time')\n",
    "ansys.load_parameters()\n",
    "ansys.parameters"
   ]
  },
  {
   "cell_type": "markdown",
   "metadata": {},
   "source": [
    "####  write out the pressur data e with time and save as csv \n",
    "- durch for loop werden\n",
    "    - min node Nummer == aktelle node Number\n",
    "    - zuerst die Zeit von einem Substep gekregt\n",
    "    - schreiben die zeit als columns von Tab\n",
    "    - kommen zu einer anderen Loop\n",
    "        - schreiben die aktuelle node Number ald index von Tab\n",
    "        - kriegen Pressure von akutelle node Number\n",
    "        - kriegen die nächste node Number\n",
    "- Schreibe aus als csv Datei\n",
    "- Daten erkennen\n",
    "- TODO: change name of dataframe"
   ]
  },
  {
   "cell_type": "code",
   "execution_count": null,
   "metadata": {},
   "outputs": [],
   "source": [
    "ansys.set(3,'last')\n",
    "df = pd.DateFrame()"
   ]
  },
  {
   "cell_type": "code",
   "execution_count": null,
   "metadata": {},
   "outputs": [],
   "source": [
    "for i in range(int(NMBR_SS_EI)):\n",
    "    CNTCT1_ND_CUR = CNTCT1_ND_MIN\n",
    "    ansys.get('TIME_LS', 'active', 0, 'set', 'time')\n",
    "    ansys.load_parameters()\n",
    "    time = ansys.parameters['TIME_LS']\n",
    "    time_list.append(time)\n",
    "    for j in range(int(CNTCT1_ND_NMR)):\n",
    "        if i == 0:\n",
    "            ND_list.append(CNTCT1_ND_CUR)\n",
    "\n",
    "        ansys.get('ND_PRES_CUR', 'node', CNTCT1_ND_CUR, 'cont', 'pres')\n",
    "        ansys.load_parameters()\n",
    "        pres = ansys.parameters['ND_PRES_CUR']\n",
    "        pres_list.append(pres)\n",
    "        ansys.get('CNTCT1_ND_CUR', 'node', CNTCT1_ND_CUR, 'nxth')\n",
    "        ansys.load_parameters()\n",
    "        CNTCT1_ND_CUR = ansys.parameters['CNTCT1_ND_CUR']\n",
    "        ansys.run(\"ND_PRES_CUR = 0\")\n",
    "\n",
    "    df[time] = pres_list\n",
    "    pres_list.clear()\n",
    "    ansys.set('next')"
   ]
  },
  {
   "cell_type": "markdown",
   "metadata": {},
   "source": [
    "#### Test Berechnungszeit optimieren"
   ]
  },
  {
   "cell_type": "code",
   "execution_count": null,
   "metadata": {},
   "outputs": [],
   "source": [
    "# Importiere benötigte Bibliotheken\n",
    "import os\n",
    "import pyansys\n",
    "import numpy as np\n",
    "import matplotlib.pyplot as plt\n",
    "import pandas as pd\n",
    "import matplotlib as mpl\n",
    "from matplotlib.ticker import MultipleLocator\n",
    "from IPython.display import Image\n",
    "from scipy.interpolate import interp1d\n",
    "import time as zeit"
   ]
  },
  {
   "cell_type": "code",
   "execution_count": null,
   "metadata": {},
   "outputs": [],
   "source": [
    "# cwd change\n",
    "def Newdir(path):\n",
    "    import os\n",
    "    # new dir\n",
    "    try:\n",
    "        os.makedirs(path)\n",
    "    except FileExistsError:\n",
    "        print (path + '\\t directory already exists!')\n",
    "    # cwd\n",
    "    os.chdir(path)\n",
    "    print('cwd:', os.getcwd())\n",
    "\n",
    "subfolder = 'Output'"
   ]
  },
  {
   "cell_type": "code",
   "execution_count": null,
   "metadata": {},
   "outputs": [],
   "source": [
    "def SaveAndExit():\n",
    "    ansys.save()\n",
    "    ansys.Exit()"
   ]
  },
  {
   "cell_type": "code",
   "execution_count": null,
   "metadata": {},
   "outputs": [],
   "source": [
    "# ansys apdl aktivieren\n",
    "filecode = 'therm_cdw_ring_al_py'           # TODO\n",
    "cwd  = 'E:/Lu/SHK/Pyansys/Solution/'                     # TODO\n",
    "mkpath = cwd + filecode\n",
    "Newdir(mkpath)\n",
    "# physiscs name\n",
    "PHYS_STRUCT       = 'Struct'\n",
    "PHYS_T_E          = 'T_E'\n",
    "STRUCT_FILE       = 'Structure'\n",
    "T_E_FILE          = 'Thermo_Electric'\n",
    "PRMTR_DT = 'PRMTR_DT'\n",
    "ansys = pyansys.Mapdl(run_location = os.getcwd(),jobname = STRUCT_FILE, interactive_plotting = True)\n",
    "ansys.resume('{}/{}'.format(mkpath,STRUCT_FILE),'db')"
   ]
  },
  {
   "cell_type": "code",
   "execution_count": null,
   "metadata": {},
   "outputs": [],
   "source": [
    "ansys.prep7()\n",
    "ansys.allsel('all')\n",
    "ansys.upgeom(1, 3, 'last', STRUCT_FILE, 'rst')"
   ]
  },
  {
   "cell_type": "code",
   "execution_count": null,
   "metadata": {
    "scrolled": true
   },
   "outputs": [],
   "source": [
    "ansys.post1()\n",
    "ansys.lsel('s', '', '', 200, 202, 1)\n",
    "ansys.nsll('s', 1)\n",
    "ansys.esln('s', 0)\n",
    "ansys.nsle('r', 'corner')\n",
    "ansys.nplot()\n",
    "ansys.load_parameters()\n",
    "ansys.parameters"
   ]
  },
  {
   "cell_type": "code",
   "execution_count": null,
   "metadata": {},
   "outputs": [],
   "source": [
    "Image(filename='{}/{}006.png'.format(mkpath,STRUCT_FILE),height=600,width = 600)"
   ]
  },
  {
   "cell_type": "code",
   "execution_count": null,
   "metadata": {},
   "outputs": [],
   "source": [
    "# define the name of the substeps \n",
    "ansys.post1()\n",
    "par = ['NMBR_SS_PF', 'NMBR_SS_SP', 'NMBR_SS_SWF', 'NMBR_SS_EI']\n",
    "ansys.run(\"ND_PRES_CUR = 0\")\n",
    "ansys.load_parameters()\n",
    "\n",
    "# get the substeps number of eath Loadstep\n",
    "for i in range(len(par)):\n",
    "    ansys.set(i + 1, 'last')\n",
    "    ansys.get(par[i], 'active', 0, 'solu', 'ncmss')\n",
    "    ansys.load_parameters()\n",
    "\n",
    "NMBR_SS = sum([ansys.parameters[ele] for ele in par])\n",
    "NMBR_SS_EI = ansys.parameters['NMBR_SS_EI']\n",
    "\n",
    "# count the number of node on contact surface\n",
    "ansys.get('CNTCT1_ND_NMR', 'node', 0, 'count')\n",
    "# get the max nodenumber of the selected nodes\n",
    "ansys.get('CNTCT1_ND_MAX', 'node', 0, 'num', 'max')\n",
    "# get the min nodenumber of the selected nodes\n",
    "ansys.get('CNTCT1_ND_MIN', 'node', 0, 'num', 'min')\n",
    "# build a node time press tab\n",
    "CNTCT1_ND_PRES = 'CNTCT1_ND_PRES'\n",
    "ansys.dim(CNTCT1_ND_PRES, 'table', 'CNTCT1_ND_NMR', NMBR_SS_EI, '', '', 'time')\n",
    "ansys.load_parameters()\n",
    "ansys.parameters"
   ]
  },
  {
   "cell_type": "code",
   "execution_count": null,
   "metadata": {},
   "outputs": [],
   "source": [
    "time_col = []\n",
    "node_index = []\n",
    "ansys.set(3,'last')\n",
    "ansys.uis('msgpop',3)\n",
    "df2 = pd.DataFrame()\n",
    "CNTCT1_ND_MIN = ansys.parameters['CNTCT1_ND_MIN']\n",
    "CNTCT1_ND_NMR = ansys.parameters['CNTCT1_ND_NMR']\n",
    "NMBR_SS_EI = ansys.parameters['NMBR_SS_EI']\n",
    "\n",
    "for i in range(int(NMBR_SS_EI)):\n",
    "    CNTCT1_ND_CUR = CNTCT1_ND_MIN\n",
    "    ansys.get('TIME_LS', 'active', 0, 'set', 'time')\n",
    "    ansys.load_parameters()\n",
    "    TIME_LS = ansys.parameters['TIME_LS']\n",
    "    time_col.append(TIME_LS)\n",
    "    ansys.taxis('CNTCT1_ND_PRES(1,{})'.format(i+1),2,TIME_LS)\n",
    "    for j in range(int(CNTCT1_ND_NMR)):    \n",
    "        if i == 0:\n",
    "            ansys.taxis('CNTCT1_ND_PRES({},1)'.format(j+1),1,CNTCT1_ND_CUR)\n",
    "        ansys.get('CNTCT1_ND_PRES({},{})'.format(j+1,i+1),'node',CNTCT1_ND_CUR,'cont', 'pres')\n",
    "        ansys.get('CNTCT1_ND_CUR', 'node', CNTCT1_ND_CUR, 'nxth')\n",
    "        ansys.load_parameters()\n",
    "        CNTCT1_ND_CUR = ansys.parameters['CNTCT1_ND_CUR']\n",
    "        node_index.append(CNTCT1_ND_CUR)\n",
    "        \n",
    "    ansys.set('next')"
   ]
  },
  {
   "cell_type": "code",
   "execution_count": null,
   "metadata": {},
   "outputs": [],
   "source": [
    "ansys.allsel('all')\n",
    "ansys.prep7()\n",
    "ansys.upgeom(-1, 3, 'last', STRUCT_FILE, 'rst')\n",
    "ansys.allsel('all')\n",
    "ansys.parsav('all', 'PRMTR_DT', 'sav')\n",
    "ansys.save()\n",
    "ansys.finish()"
   ]
  },
  {
   "cell_type": "code",
   "execution_count": null,
   "metadata": {},
   "outputs": [],
   "source": [
    "SaveAndExit()"
   ]
  },
  {
   "cell_type": "code",
   "execution_count": null,
   "metadata": {},
   "outputs": [],
   "source": []
  }
 ],
 "metadata": {
  "kernelspec": {
   "display_name": "Python 3",
   "language": "python",
   "name": "python3"
  },
  "language_info": {
   "codemirror_mode": {
    "name": "ipython",
    "version": 3
   },
   "file_extension": ".py",
   "mimetype": "text/x-python",
   "name": "python",
   "nbconvert_exporter": "python",
   "pygments_lexer": "ipython3",
   "version": "3.7.4"
  },
  "toc": {
   "base_numbering": 1,
   "nav_menu": {},
   "number_sections": true,
   "sideBar": true,
   "skip_h1_title": false,
   "title_cell": "Table of Contents",
   "title_sidebar": "Contents",
   "toc_cell": false,
   "toc_position": {},
   "toc_section_display": true,
   "toc_window_display": false
  }
 },
 "nbformat": 4,
 "nbformat_minor": 2
}
