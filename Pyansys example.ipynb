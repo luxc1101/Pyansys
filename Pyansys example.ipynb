{
 "cells": [
  {
   "cell_type": "code",
   "execution_count": 1,
   "metadata": {},
   "outputs": [],
   "source": [
    "import pyansys\n",
    "from pyansys import examples"
   ]
  },
  {
   "cell_type": "code",
   "execution_count": 2,
   "metadata": {},
   "outputs": [],
   "source": [
    "filename = examples.hexarchivefile"
   ]
  },
  {
   "cell_type": "code",
   "execution_count": 3,
   "metadata": {},
   "outputs": [],
   "source": [
    "archive = pyansys.Archive(filename)"
   ]
  },
  {
   "cell_type": "code",
   "execution_count": 5,
   "metadata": {},
   "outputs": [
    {
     "name": "stdout",
     "output_type": "stream",
     "text": [
      "rnum : []\n",
      "rdat : []\n",
      "ekey : [[  1 186]]\n",
      "nnum : [  1   2   3   4   5   6   7   8   9  10  11  12  13  14  15  16  17  18\n",
      "  19  20  21  22  23  24  25  26  27  28  29  30  31  32  33  34  35  36\n",
      "  37  38  39  40  41  42  43  44  45  46  47  48  49  50  51  52  53  54\n",
      "  55  56  57  58  59  60  61  62  63  64  65  66  67  68  69  70  71  72\n",
      "  73  74  75  76  77  78  79  80  81  82  83  84  85  86  87  88  89  90\n",
      "  91  92  93  94  95  96  97  98  99 100 101 102 103 104 105 106 107 108\n",
      " 109 110 111 112 113 114 115 116 117 118 119 120 121 122 123 124 125 126\n",
      " 127 128 129 130 131 132 133 134 135 136 137 138 139 140 141 142 143 144\n",
      " 145 146 147 148 149 150 151 152 153 154 155 156 157 158 159 160 161 162\n",
      " 163 164 165 166 167 168 169 170 171 172 173 174 175 176 177 178 179 180\n",
      " 181 182 183 184 185 186 187 188 189 190 191 192 193 194 195 196 197 198\n",
      " 199 200 201 202 203 204 205 206 207 208 209 210 211 212 213 214 215 216\n",
      " 217 218 219 220 221 222 223 224 225 226 227 228 229 230 231 232 233 234\n",
      " 235 236 237 238 239 240 241 242 243 244 245 246 247 248 249 250 251 252\n",
      " 253 254 255 256 257 258 259 260 261 262 263 264 265 266 267 268 269 270\n",
      " 271 272 273 274 275 276 277 278 279 280 281 282 283 284 285 286 287 288\n",
      " 289 290 291 292 293 294 295 296 297 298 299 300 301 302 303 304 305 306\n",
      " 307 308 309 310 311 312 313 314 315 316 317 318 319 320 321]\n",
      "nodes : [[0.   0.   0.   0.   0.   0.  ]\n",
      " [1.   0.   0.   0.   0.   0.  ]\n",
      " [0.25 0.   0.   0.   0.   0.  ]\n",
      " ...\n",
      " [0.75 0.5  3.5  0.   0.   0.  ]\n",
      " [0.75 0.5  4.   0.   0.   0.  ]\n",
      " [0.75 0.5  4.5  0.   0.   0.  ]]\n",
      "enum : [ 1  2  3  4  5  6  7  8  9 10 11 12 13 14 15 16 17 18 19 20 21 22 23 24\n",
      " 25 26 27 28 29 30 31 32 33 34 35 36 37 38 39 40]\n",
      "elem : [[  1   4  19  15  63  91 286 240   3  18  17  16  81 276 267 258  62  90\n",
      "  285 239]\n",
      " [  4   2   8  19  91  44 147 286   5   7  21  18 109 137 313 276  90  43\n",
      "  146 285]\n",
      " [ 15  19  12  10 240 286 203 175  17  20  13  14 267 304 221 230 239 285\n",
      "  202 174]\n",
      " [ 19   8   6  12 286 147 119 203  21   9  11  20 313 165 193 304 285 146\n",
      "  118 202]\n",
      " [ 63  91 286 240  65  93 288 242  81 276 267 258  82 277 268 259  64  92\n",
      "  287 241]\n",
      " [ 91  44 147 286  93  46 149 288 109 137 313 276 110 138 314 277  92  45\n",
      "  148 287]\n",
      " [240 286 203 175 242 288 205 177 267 304 221 230 268 305 222 231 241 287\n",
      "  204 176]\n",
      " [286 147 119 203 288 149 121 205 313 165 193 304 314 166 194 305 287 148\n",
      "  120 204]\n",
      " [ 65  93 288 242  67  95 290 244  82 277 268 259  83 278 269 260  66  94\n",
      "  289 243]\n",
      " [ 93  46 149 288  95  48 151 290 110 138 314 277 111 139 315 278  94  47\n",
      "  150 289]\n",
      " [242 288 205 177 244 290 207 179 268 305 222 231 269 306 223 232 243 289\n",
      "  206 178]\n",
      " [288 149 121 205 290 151 123 207 314 166 194 305 315 167 195 306 289 150\n",
      "  122 206]\n",
      " [ 67  95 290 244  69  97 292 246  83 278 269 260  84 279 270 261  68  96\n",
      "  291 245]\n",
      " [ 95  48 151 290  97  50 153 292 111 139 315 278 112 140 316 279  96  49\n",
      "  152 291]\n",
      " [244 290 207 179 246 292 209 181 269 306 223 232 270 307 224 233 245 291\n",
      "  208 180]\n",
      " [290 151 123 207 292 153 125 209 315 167 195 306 316 168 196 307 291 152\n",
      "  124 208]\n",
      " [ 69  97 292 246  71  99 294 248  84 279 270 261  85 280 271 262  70  98\n",
      "  293 247]\n",
      " [ 97  50 153 292  99  52 155 294 112 140 316 279 113 141 317 280  98  51\n",
      "  154 293]\n",
      " [246 292 209 181 248 294 211 183 270 307 224 233 271 308 225 234 247 293\n",
      "  210 182]\n",
      " [292 153 125 209 294 155 127 211 316 168 196 307 317 169 197 308 293 154\n",
      "  126 210]\n",
      " [ 71  99 294 248  73 101 296 250  85 280 271 262  86 281 272 263  72 100\n",
      "  295 249]\n",
      " [ 99  52 155 294 101  54 157 296 113 141 317 280 114 142 318 281 100  53\n",
      "  156 295]\n",
      " [248 294 211 183 250 296 213 185 271 308 225 234 272 309 226 235 249 295\n",
      "  212 184]\n",
      " [294 155 127 211 296 157 129 213 317 169 197 308 318 170 198 309 295 156\n",
      "  128 212]\n",
      " [ 73 101 296 250  75 103 298 252  86 281 272 263  87 282 273 264  74 102\n",
      "  297 251]\n",
      " [101  54 157 296 103  56 159 298 114 142 318 281 115 143 319 282 102  55\n",
      "  158 297]\n",
      " [250 296 213 185 252 298 215 187 272 309 226 235 273 310 227 236 251 297\n",
      "  214 186]\n",
      " [296 157 129 213 298 159 131 215 318 170 198 309 319 171 199 310 297 158\n",
      "  130 214]\n",
      " [ 75 103 298 252  77 105 300 254  87 282 273 264  88 283 274 265  76 104\n",
      "  299 253]\n",
      " [103  56 159 298 105  58 161 300 115 143 319 282 116 144 320 283 104  57\n",
      "  160 299]\n",
      " [252 298 215 187 254 300 217 189 273 310 227 236 274 311 228 237 253 299\n",
      "  216 188]\n",
      " [298 159 131 215 300 161 133 217 319 171 199 310 320 172 200 311 299 160\n",
      "  132 216]\n",
      " [ 77 105 300 254  79 107 302 256  88 283 274 265  89 284 275 266  78 106\n",
      "  301 255]\n",
      " [105  58 161 300 107  60 163 302 116 144 320 283 117 145 321 284 106  59\n",
      "  162 301]\n",
      " [254 300 217 189 256 302 219 191 274 311 228 237 275 312 229 238 255 301\n",
      "  218 190]\n",
      " [300 161 133 217 302 163 135 219 320 172 200 311 321 173 201 312 301 162\n",
      "  134 218]\n",
      " [ 79 107 302 256  22  25  40  36  89 284 275 266  24  39  38  37  80 108\n",
      "  303 257]\n",
      " [107  60 163 302  25  23  29  40 117 145 321 284  26  28  42  39 108  61\n",
      "  164 303]\n",
      " [256 302 219 191  36  40  33  31 275 312 229 238  38  41  34  35 257 303\n",
      "  220 192]\n",
      " [302 163 135 219  40  29  27  33 321 173 201 312  42  30  32  41 303 164\n",
      "  136 220]]\n",
      "etype : [1 1 1 1 1 1 1 1 1 1 1 1 1 1 1 1 1 1 1 1 1 1 1 1 1 1 1 1 1 1 1 1 1 1 1 1 1\n",
      " 1 1 1]\n",
      "e_rcon : [1 1 1 1 1 1 1 1 1 1 1 1 1 1 1 1 1 1 1 1 1 1 1 1 1 1 1 1 1 1 1 1 1 1 1 1 1\n",
      " 1 1 1]\n",
      "node_comps : {'NCOMP2  ': array([  1,   2,   3,   4,   5,   6,   7,   8,   9,  10,  11,  12,  13,\n",
      "        14,  15,  16,  17,  18,  19,  20,  21,  43,  44,  45,  46,  47,\n",
      "        62,  63,  64,  81,  82,  90,  91,  92,  93,  94,  95, 109, 110,\n",
      "       118, 119, 120, 121, 122, 123, 124, 125, 126, 137, 138, 139, 146,\n",
      "       147, 148, 149, 150, 151, 152, 153, 165, 166, 167, 168, 174, 175,\n",
      "       193, 194, 195, 202, 203, 204, 205, 206, 207, 221, 222, 230, 239,\n",
      "       240, 258, 267, 268, 276, 277, 278, 285, 286, 287, 288, 289, 290,\n",
      "       304, 305, 306, 313, 314, 315, 316]), 'NODE_SELECTION': array([ 22,  23,  24,  25,  26,  27,  28,  29,  30,  31,  32,  33,  34,\n",
      "        35,  36,  37,  38,  39,  40,  41,  42,  54,  55,  56,  57,  58,\n",
      "        59,  60,  61,  67,  68,  69,  70,  71,  72,  73,  74,  75,  76,\n",
      "        77,  78,  79,  80,  84,  85,  86,  87,  88,  89,  98,  99, 100,\n",
      "       101, 102, 103, 104, 105, 106, 107, 108, 114, 115, 116, 117, 129,\n",
      "       130, 131, 132, 133, 134, 135, 136, 142, 143, 144, 145, 157, 158,\n",
      "       159, 160, 161, 162, 163, 164, 170, 171, 172, 173, 185, 186, 187,\n",
      "       188, 189, 190, 191, 192, 198, 199, 200, 201, 213, 214, 215, 216,\n",
      "       217, 218, 219, 220, 226, 227, 228, 229, 235, 236, 237, 238, 247,\n",
      "       248, 249, 250, 251, 252, 253, 254, 255, 256, 257, 261, 262, 263,\n",
      "       264, 265, 266, 271, 272, 273, 274, 275, 280, 281, 282, 283, 284,\n",
      "       293, 294, 295, 296, 297, 298, 299, 300, 301, 302, 303, 308, 309,\n",
      "       310, 311, 312, 317, 318, 319, 320, 321])}\n",
      "elem_comps : {'ECOMP1  ': array([17, 18, 21, 22, 23, 24, 25, 26, 27, 28, 29, 30, 31, 32, 33, 34, 35,\n",
      "       36, 37, 38, 39, 40]), 'ECOMP2  ': array([ 1,  2,  3,  4,  5,  6,  7,  8,  9, 10, 11, 12, 13, 14, 15, 16, 17,\n",
      "       18, 19, 20, 23, 24])}\n",
      "mtype : [1 1 1 1 1 1 1 1 1 1 1 1 1 1 1 1 1 1 1 1 1 1 1 1 1 1 1 1 1 1 1 1 1 1 1 1 1\n",
      " 1 1 1]\n",
      "sec_id : [1 1 1 1 1 1 1 1 1 1 1 1 1 1 1 1 1 1 1 1 1 1 1 1 1 1 1 1 1 1 1 1 1 1 1 1 1\n",
      " 1 1 1]\n",
      "keyopt : {}\n",
      "parameters : {}\n"
     ]
    }
   ],
   "source": [
    "for key in archive.raw:\n",
    "     print(\"%s : %s\" % (key, archive.raw[key]))"
   ]
  },
  {
   "cell_type": "code",
   "execution_count": 6,
   "metadata": {},
   "outputs": [
    {
     "name": "stderr",
     "output_type": "stream",
     "text": [
      "C:\\ProgramData\\Anaconda3\\lib\\site-packages\\vtk\\util\\numpy_support.py:137: FutureWarning: Conversion of the second argument of issubdtype from `complex` to `np.complexfloating` is deprecated. In future, it will be treated as `np.complex128 == np.dtype(complex).type`.\n",
      "  assert not numpy.issubdtype(z.dtype, complex), \\\n"
     ]
    },
    {
     "data": {
      "image/png": "[encoded data removed]",
      "text/plain": [
       "<PIL.Image.Image image mode=RGB size=1024x768 at 0x1617CE0FB08>"
      ]
     },
     "metadata": {},
     "output_type": "display_data"
    },
    {
     "name": "stderr",
     "output_type": "stream",
     "text": [
      "ERROR:root:The interactor must be set prior to enabling/disabling widget\n"
     ]
    }
   ],
   "source": [
    "# Create a vtk unstructured grid from the raw data and plot it\n",
    "grid = archive.parse_vtk(force_linear=True)\n",
    "grid.plot(color='w', show_edges=True)"
   ]
  },
  {
   "cell_type": "code",
   "execution_count": 8,
   "metadata": {},
   "outputs": [
    {
     "name": "stderr",
     "output_type": "stream",
     "text": [
      "DEBUG:pyansys.rst:There are 6 result(s) in this file\n",
      "C:\\ProgramData\\Anaconda3\\lib\\site-packages\\vtk\\util\\numpy_support.py:137: FutureWarning: Conversion of the second argument of issubdtype from `complex` to `np.complexfloating` is deprecated. In future, it will be treated as `np.complex128 == np.dtype(complex).type`.\n",
      "  assert not numpy.issubdtype(z.dtype, complex), \\\n"
     ]
    }
   ],
   "source": [
    "import pyansys\n",
    "from pyansys import examples\n",
    "\n",
    "# load example beam result file\n",
    "result = pyansys.read_binary(examples.rstfile)\n",
    "\n",
    "# save as a binary vtk xml file\n",
    "result.save_as_vtk('beam.vtu')"
   ]
  },
  {
   "cell_type": "markdown",
   "metadata": {},
   "source": [
    "#### output pressure data for ECR-calcution\n",
    "- select relevant nodes\n",
    "- write the require paremeters in ansys apdl\n",
    "- write out the pressure data  with time  and save as csv"
   ]
  },
  {
   "cell_type": "code",
   "execution_count": null,
   "metadata": {},
   "outputs": [],
   "source": [
    "ansys.prep7()\n",
    "ansys.allsel('all')\n",
    "ansys.upgeom(1, 3, 'last', STRUCT_FILE, 'rst')"
   ]
  },
  {
   "cell_type": "code",
   "execution_count": null,
   "metadata": {},
   "outputs": [],
   "source": [
    "ansys.post1()\n",
    "ansys.lsel('s', '', '', 200, 202, 1)\n",
    "ansys.nsll('s', 1)\n",
    "ansys.esln('s', 0)\n",
    "ansys.nsle('r', 'corner')\n",
    "ansys.nplot()\n",
    "ansys.load_parameters()\n",
    "ansys.parameters"
   ]
  },
  {
   "cell_type": "markdown",
   "metadata": {},
   "source": [
    "#### write the require paremeters in ansys apdl"
   ]
  },
  {
   "cell_type": "code",
   "execution_count": null,
   "metadata": {},
   "outputs": [],
   "source": [
    "# define the name of the substeps \n",
    "ansys.post1()\n",
    "par = ['NMBR_SS_PF', 'NMBR_SS_SP', 'NMBR_SS_SWF', 'NMBR_SS_EI']\n",
    "ansys.run(\"ND_PRES_CUR = 0\")\n",
    "ansys.load_parameters()\n",
    "\n",
    "# get the substeps number of eath Loadstep\n",
    "for i in range(len(par)):\n",
    "    ansys.set(i + 1, 'last')\n",
    "    ansys.get(par[i], 'active', 0, 'solu', 'ncmss')\n",
    "    ansys.load_parameters()\n",
    "\n",
    "NMBR_SS = sum([ansys.parameters[ele] for ele in par])\n",
    "NMBR_SS_EI = ansys.parameters['NMBR_SS_EI']\n",
    "\n",
    "# count the number of node on contact surface\n",
    "ansys.get('CNTCT1_ND_NMR', 'node', 0, 'count')\n",
    "# get the max nodenumber of the selected nodes\n",
    "ansys.get('CNTCT1_ND_MAX', 'node', 0, 'num', 'max')\n",
    "# get the min nodenumber of the selected nodes\n",
    "ansys.get('CNTCT1_ND_MIN', 'node', 0, 'num', 'min')\n",
    "# build a node time press tab\n",
    "ansys.dim('CNTCT1_ND_PRES', 'table', 'CNTCT1_ND_NMR', NMBR_SS_EI, '', '', 'time')\n",
    "ansys.load_parameters()\n",
    "ansys.parameters"
   ]
  },
  {
   "cell_type": "markdown",
   "metadata": {},
   "source": [
    "####  write out the pressur data e with time and save as csv \n",
    "- durch for loop werden\n",
    "    - min node Nummer == aktelle node Number\n",
    "    - zuerst die Zeit von einem Substep gekregt\n",
    "    - schreiben die zeit als columns von Tab\n",
    "    - kommen zu einer anderen Loop\n",
    "        - schreiben die aktuelle node Number ald index von Tab\n",
    "        - kriegen Pressure von akutelle node Number\n",
    "        - kriegen die nächste node Number\n",
    "- Schreibe aus als csv Datei\n",
    "- Daten erkennen\n",
    "- TODO: change name of dataframe"
   ]
  },
  {
   "cell_type": "code",
   "execution_count": null,
   "metadata": {},
   "outputs": [],
   "source": []
  },
  {
   "cell_type": "code",
   "execution_count": null,
   "metadata": {},
   "outputs": [],
   "source": []
  },
  {
   "cell_type": "code",
   "execution_count": null,
   "metadata": {},
   "outputs": [],
   "source": []
  }
 ],
 "metadata": {
  "kernelspec": {
   "display_name": "Python 3",
   "language": "python",
   "name": "python3"
  },
  "language_info": {
   "codemirror_mode": {
    "name": "ipython",
    "version": 3
   },
   "file_extension": ".py",
   "mimetype": "text/x-python",
   "name": "python",
   "nbconvert_exporter": "python",
   "pygments_lexer": "ipython3",
   "version": "3.7.4"
  },
  "toc": {
   "base_numbering": 1,
   "nav_menu": {},
   "number_sections": true,
   "sideBar": true,
   "skip_h1_title": false,
   "title_cell": "Table of Contents",
   "title_sidebar": "Contents",
   "toc_cell": false,
   "toc_position": {},
   "toc_section_display": true,
   "toc_window_display": false
  }
 },
 "nbformat": 4,
 "nbformat_minor": 2
}
